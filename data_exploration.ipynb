{
 "cells": [
  {
   "cell_type": "code",
   "id": "initial_id",
   "metadata": {
    "collapsed": true,
    "ExecuteTime": {
     "end_time": "2024-12-04T12:30:09.784990Z",
     "start_time": "2024-12-04T12:30:09.431738Z"
    }
   },
   "source": "import pandas as pd",
   "outputs": [],
   "execution_count": 1
  },
  {
   "metadata": {
    "ExecuteTime": {
     "end_time": "2024-12-04T12:30:10.415628Z",
     "start_time": "2024-12-04T12:30:09.786597Z"
    }
   },
   "cell_type": "code",
   "source": "df = pd.read_json('./evomag_2024_11_12.json')",
   "id": "5d99e112a7ff153d",
   "outputs": [],
   "execution_count": 2
  },
  {
   "metadata": {
    "ExecuteTime": {
     "end_time": "2024-12-04T12:30:20.600018Z",
     "start_time": "2024-12-04T12:30:20.567808Z"
    }
   },
   "cell_type": "code",
   "source": "df.head()",
   "id": "abc8691c802bf37b",
   "outputs": [
    {
     "data": {
      "text/plain": [
       "                timestamp                                               name  \\\n",
       "0 1976-05-31 17:18:41.640  Laptop ASUS Vivobook X1504VA (Procesor Intel C...   \n",
       "1 1976-05-31 17:18:41.640  Laptop Gaming ASUS TUF A15 FA506NF (Procesor A...   \n",
       "2 1976-05-31 17:18:41.640  Laptop ASUS  Vivobook 15 M1502YA (Procesor AMD...   \n",
       "3 1976-05-31 17:18:41.640  Laptop ASUS Vivobook X1504VA (Procesor Intel C...   \n",
       "4 1976-05-31 17:18:41.640  Laptop Asus VivoBook X1502ZA (Procesor Intel® ...   \n",
       "\n",
       "     price  rating  number_of_reviews  is_in_stoc  \\\n",
       "0  2199.99       5                  1           1   \n",
       "1  2849.99       5                  4           1   \n",
       "2  2643.99       5                  1           0   \n",
       "3  2199.99       5                  1           1   \n",
       "4  1999.99       5                  3           1   \n",
       "\n",
       "                                                 url   product_code  \\\n",
       "0  https://www.evomag.ro/portabile-laptopuri-note...  X1504VA-BQ004   \n",
       "1  https://www.evomag.ro/portabile-laptopuri-note...  FA506NF-HN044   \n",
       "2  https://www.evomag.ro/portabile-laptopuri-note...  M1502YA-BQ161   \n",
       "3  https://www.evomag.ro/portabile-laptopuri-note...  X1504VA-BQ003   \n",
       "4  https://www.evomag.ro/portabile-laptopuri-note...  X1502ZA-BQ292   \n",
       "\n",
       "  online_mag                                     specifications manufacturer  \\\n",
       "0     evomag  {'Model': 'VivoBook X1504', 'Tip Laptop': 'Mul...         ASUS   \n",
       "1     evomag  {'Model': 'TUF A15 FA506', 'Tip Laptop': 'Gami...         ASUS   \n",
       "2     evomag  {'Model': 'Vivobook M1502YA', 'Tip Laptop': 'M...         ASUS   \n",
       "3     evomag  {'Model': 'VivoBook X1504', 'Tip Laptop': 'Mul...         ASUS   \n",
       "4     evomag  {'Model': 'Vivobook 15 X1502ZA', 'Tip Laptop':...         ASUS   \n",
       "\n",
       "               category  \n",
       "0  Laptopuri / Notebook  \n",
       "1  Laptopuri / Notebook  \n",
       "2  Laptopuri / Notebook  \n",
       "3  Laptopuri / Notebook  \n",
       "4  Laptopuri / Notebook  "
      ],
      "text/html": [
       "<div>\n",
       "<style scoped>\n",
       "    .dataframe tbody tr th:only-of-type {\n",
       "        vertical-align: middle;\n",
       "    }\n",
       "\n",
       "    .dataframe tbody tr th {\n",
       "        vertical-align: top;\n",
       "    }\n",
       "\n",
       "    .dataframe thead th {\n",
       "        text-align: right;\n",
       "    }\n",
       "</style>\n",
       "<table border=\"1\" class=\"dataframe\">\n",
       "  <thead>\n",
       "    <tr style=\"text-align: right;\">\n",
       "      <th></th>\n",
       "      <th>timestamp</th>\n",
       "      <th>name</th>\n",
       "      <th>price</th>\n",
       "      <th>rating</th>\n",
       "      <th>number_of_reviews</th>\n",
       "      <th>is_in_stoc</th>\n",
       "      <th>url</th>\n",
       "      <th>product_code</th>\n",
       "      <th>online_mag</th>\n",
       "      <th>specifications</th>\n",
       "      <th>manufacturer</th>\n",
       "      <th>category</th>\n",
       "    </tr>\n",
       "  </thead>\n",
       "  <tbody>\n",
       "    <tr>\n",
       "      <th>0</th>\n",
       "      <td>1976-05-31 17:18:41.640</td>\n",
       "      <td>Laptop ASUS Vivobook X1504VA (Procesor Intel C...</td>\n",
       "      <td>2199.99</td>\n",
       "      <td>5</td>\n",
       "      <td>1</td>\n",
       "      <td>1</td>\n",
       "      <td>https://www.evomag.ro/portabile-laptopuri-note...</td>\n",
       "      <td>X1504VA-BQ004</td>\n",
       "      <td>evomag</td>\n",
       "      <td>{'Model': 'VivoBook X1504', 'Tip Laptop': 'Mul...</td>\n",
       "      <td>ASUS</td>\n",
       "      <td>Laptopuri / Notebook</td>\n",
       "    </tr>\n",
       "    <tr>\n",
       "      <th>1</th>\n",
       "      <td>1976-05-31 17:18:41.640</td>\n",
       "      <td>Laptop Gaming ASUS TUF A15 FA506NF (Procesor A...</td>\n",
       "      <td>2849.99</td>\n",
       "      <td>5</td>\n",
       "      <td>4</td>\n",
       "      <td>1</td>\n",
       "      <td>https://www.evomag.ro/portabile-laptopuri-note...</td>\n",
       "      <td>FA506NF-HN044</td>\n",
       "      <td>evomag</td>\n",
       "      <td>{'Model': 'TUF A15 FA506', 'Tip Laptop': 'Gami...</td>\n",
       "      <td>ASUS</td>\n",
       "      <td>Laptopuri / Notebook</td>\n",
       "    </tr>\n",
       "    <tr>\n",
       "      <th>2</th>\n",
       "      <td>1976-05-31 17:18:41.640</td>\n",
       "      <td>Laptop ASUS  Vivobook 15 M1502YA (Procesor AMD...</td>\n",
       "      <td>2643.99</td>\n",
       "      <td>5</td>\n",
       "      <td>1</td>\n",
       "      <td>0</td>\n",
       "      <td>https://www.evomag.ro/portabile-laptopuri-note...</td>\n",
       "      <td>M1502YA-BQ161</td>\n",
       "      <td>evomag</td>\n",
       "      <td>{'Model': 'Vivobook M1502YA', 'Tip Laptop': 'M...</td>\n",
       "      <td>ASUS</td>\n",
       "      <td>Laptopuri / Notebook</td>\n",
       "    </tr>\n",
       "    <tr>\n",
       "      <th>3</th>\n",
       "      <td>1976-05-31 17:18:41.640</td>\n",
       "      <td>Laptop ASUS Vivobook X1504VA (Procesor Intel C...</td>\n",
       "      <td>2199.99</td>\n",
       "      <td>5</td>\n",
       "      <td>1</td>\n",
       "      <td>1</td>\n",
       "      <td>https://www.evomag.ro/portabile-laptopuri-note...</td>\n",
       "      <td>X1504VA-BQ003</td>\n",
       "      <td>evomag</td>\n",
       "      <td>{'Model': 'VivoBook X1504', 'Tip Laptop': 'Mul...</td>\n",
       "      <td>ASUS</td>\n",
       "      <td>Laptopuri / Notebook</td>\n",
       "    </tr>\n",
       "    <tr>\n",
       "      <th>4</th>\n",
       "      <td>1976-05-31 17:18:41.640</td>\n",
       "      <td>Laptop Asus VivoBook X1502ZA (Procesor Intel® ...</td>\n",
       "      <td>1999.99</td>\n",
       "      <td>5</td>\n",
       "      <td>3</td>\n",
       "      <td>1</td>\n",
       "      <td>https://www.evomag.ro/portabile-laptopuri-note...</td>\n",
       "      <td>X1502ZA-BQ292</td>\n",
       "      <td>evomag</td>\n",
       "      <td>{'Model': 'Vivobook 15 X1502ZA', 'Tip Laptop':...</td>\n",
       "      <td>ASUS</td>\n",
       "      <td>Laptopuri / Notebook</td>\n",
       "    </tr>\n",
       "  </tbody>\n",
       "</table>\n",
       "</div>"
      ]
     },
     "execution_count": 3,
     "metadata": {},
     "output_type": "execute_result"
    }
   ],
   "execution_count": 3
  },
  {
   "metadata": {
    "ExecuteTime": {
     "end_time": "2024-12-04T12:43:11.159154Z",
     "start_time": "2024-12-04T12:43:11.148700Z"
    }
   },
   "cell_type": "code",
   "source": [
    "count = df.count(axis=0).tolist()[0]\n",
    "count = count //4 *4\n",
    "step = count //4"
   ],
   "id": "503dadb96c274039",
   "outputs": [],
   "execution_count": 27
  },
  {
   "metadata": {
    "ExecuteTime": {
     "end_time": "2024-12-04T12:43:12.438094Z",
     "start_time": "2024-12-04T12:43:12.432731Z"
    }
   },
   "cell_type": "code",
   "source": [
    "dfs = []\n",
    "for i in range(0,count, step):\n",
    "    dfs.append(df.iloc[i:i+step])"
   ],
   "id": "ce91cb6f0c22f237",
   "outputs": [],
   "execution_count": 28
  },
  {
   "metadata": {
    "ExecuteTime": {
     "end_time": "2024-12-04T12:43:20.405428Z",
     "start_time": "2024-12-04T12:43:20.313134Z"
    }
   },
   "cell_type": "code",
   "source": [
    "for i in range(0, len(dfs)):\n",
    "    dfs[i].to_csv('evomag_'+ str(i) + '.csv')\n"
   ],
   "id": "dbe3c502fa87522d",
   "outputs": [],
   "execution_count": 30
  },
  {
   "metadata": {
    "ExecuteTime": {
     "end_time": "2024-12-04T12:48:09.767697Z",
     "start_time": "2024-12-04T12:48:09.750201Z"
    }
   },
   "cell_type": "code",
   "source": "df.head(100).to_csv('evomag_100.csv')",
   "id": "39e9dca385c76840",
   "outputs": [],
   "execution_count": 31
  }
 ],
 "metadata": {
  "kernelspec": {
   "display_name": "Python 3",
   "language": "python",
   "name": "python3"
  },
  "language_info": {
   "codemirror_mode": {
    "name": "ipython",
    "version": 2
   },
   "file_extension": ".py",
   "mimetype": "text/x-python",
   "name": "python",
   "nbconvert_exporter": "python",
   "pygments_lexer": "ipython2",
   "version": "2.7.6"
  }
 },
 "nbformat": 4,
 "nbformat_minor": 5
}
